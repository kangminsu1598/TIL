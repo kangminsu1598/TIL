{
 "cells": [
  {
   "cell_type": "code",
   "execution_count": 9,
   "metadata": {},
   "outputs": [
    {
     "name": "stdout",
     "output_type": "stream",
     "text": [
      "1\n",
      "       *  \n",
      "      * * \n",
      "     *****\n"
     ]
    }
   ],
   "source": [
    "# Line = 3*2**k = 6, 12, 24\n",
    "# 첫째 별 정렬 : 3, 9, 20\n",
    "\n",
    "\n",
    "k = int(input())\n",
    "N = 3*2**k\n",
    "\n",
    "# 중심선 좌표\n",
    "space = (6*2**(k-1) - 1) * ' '\n",
    "\n",
    "\n",
    "print(f'{space}  *  ')\n",
    "print(f'{space} * * ')\n",
    "print(f'{space}*****')\n",
    "\n",
    "\n"
   ]
  },
  {
   "cell_type": "code",
   "execution_count": null,
   "metadata": {},
   "outputs": [],
   "source": [
    "print('*')\n",
    "print('* *')\n",
    "print(\"*****\")"
   ]
  },
  {
   "cell_type": "code",
   "execution_count": null,
   "metadata": {},
   "outputs": [],
   "source": []
  },
  {
   "cell_type": "code",
   "execution_count": null,
   "metadata": {},
   "outputs": [],
   "source": []
  }
 ],
 "metadata": {
  "kernelspec": {
   "display_name": "Python 3",
   "language": "python",
   "name": "python3"
  }
 },
 "nbformat": 4,
 "nbformat_minor": 2
}
