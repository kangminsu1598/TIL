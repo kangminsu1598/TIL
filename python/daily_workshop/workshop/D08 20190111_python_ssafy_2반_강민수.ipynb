{
 "cells": [
  {
   "cell_type": "code",
   "execution_count": 1,
   "metadata": {},
   "outputs": [],
   "source": [
    "# 파이썬\n",
    "\n",
    "from flask import Flask, render_template\n",
    "app = Flask(__name__)\n",
    "\n",
    "app.route('/dictionary/<string:word>')\n",
    "def dictionary(word):\n",
    "    word_dict = {'banana':'바나나','apple':'사과'}\n",
    "    return render_template('word.html', word = word, word_dict = word_dict)\n"
   ]
  },
  {
   "cell_type": "code",
   "execution_count": null,
   "metadata": {},
   "outputs": [],
   "source": [
    "# html\n",
    "# 단어가 있는 경우\n",
    "{% if word in word_dict%}\n",
    "<h1>{{word}}은(는) {{word_dict[word]}}!</h1>\n",
    "\n",
    "#단어가 없는 경우\n",
    "{% else %}\n",
    "<h3>{{word}}(은)는 나만의 단어장에 없는 단어입니다.</h3>\n",
    "{% endif %}"
   ]
  }
 ],
 "metadata": {
  "kernelspec": {
   "display_name": "Python 3",
   "language": "python",
   "name": "python3"
  },
  "language_info": {
   "codemirror_mode": {
    "name": "ipython",
    "version": 3
   },
   "file_extension": ".py",
   "mimetype": "text/x-python",
   "name": "python",
   "nbconvert_exporter": "python",
   "pygments_lexer": "ipython3",
   "version": "3.6.7"
  },
  "latex_envs": {
   "LaTeX_envs_menu_present": true,
   "autoclose": false,
   "autocomplete": true,
   "bibliofile": "biblio.bib",
   "cite_by": "apalike",
   "current_citInitial": 1,
   "eqLabelWithNumbers": true,
   "eqNumInitial": 1,
   "hotkeys": {
    "equation": "Ctrl-E",
    "itemize": "Ctrl-I"
   },
   "labels_anchors": false,
   "latex_user_defs": false,
   "report_style_numbering": false,
   "user_envs_cfg": false
  },
  "toc": {
   "base_numbering": 1,
   "nav_menu": {},
   "number_sections": true,
   "sideBar": true,
   "skip_h1_title": false,
   "title_cell": "Table of Contents",
   "title_sidebar": "Contents",
   "toc_cell": false,
   "toc_position": {},
   "toc_section_display": true,
   "toc_window_display": false
  }
 },
 "nbformat": 4,
 "nbformat_minor": 2
}
